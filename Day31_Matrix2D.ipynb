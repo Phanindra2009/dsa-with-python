{
  "nbformat": 4,
  "nbformat_minor": 0,
  "metadata": {
    "colab": {
      "provenance": [],
      "authorship_tag": "ABX9TyM00D5IGFx/tvobyUTcXU2m",
      "include_colab_link": true
    },
    "kernelspec": {
      "name": "python3",
      "display_name": "Python 3"
    },
    "language_info": {
      "name": "python"
    }
  },
  "cells": [
    {
      "cell_type": "markdown",
      "metadata": {
        "id": "view-in-github",
        "colab_type": "text"
      },
      "source": [
        "<a href=\"https://colab.research.google.com/github/sovank/dsa-with-python/blob/main/Day31_Matrix2D.ipynb\" target=\"_parent\"><img src=\"https://colab.research.google.com/assets/colab-badge.svg\" alt=\"Open In Colab\"/></a>"
      ]
    },
    {
      "cell_type": "markdown",
      "source": [
        "Given row and column wise sorted matrix. Find k(a given element is present in matrix or not)"
      ],
      "metadata": {
        "id": "MpwrOzWeZlIj"
      }
    },
    {
      "cell_type": "code",
      "source": [
        "# Brute Force\n",
        "mat = [\n",
        "    [-5, -2, 1, 13],\n",
        "    [-4,  0, 3, 14],\n",
        "    [-3,  2, 6, 18]\n",
        "    ]\n",
        "\n",
        "k=6\n",
        "found = False\n",
        "row = len(A)\n",
        "col = len(A[0])\n",
        "for i in range(row):\n",
        "  for j in range(col):\n",
        "    if A[i][j] == k:\n",
        "      found = True\n",
        "      break\n",
        "if found == True:\n",
        "  print(\"True\")\n",
        "else:\n",
        "  print(\"False\")\n",
        "\n",
        "# T.C ~ O(N*M)\n",
        "# S.C ~ O(1)"
      ],
      "metadata": {
        "colab": {
          "base_uri": "https://localhost:8080/"
        },
        "id": "0fs5n9VdZtgZ",
        "outputId": "9a7dbee6-be42-4a8b-a5c1-0cc3a272c560"
      },
      "execution_count": null,
      "outputs": [
        {
          "output_type": "stream",
          "name": "stdout",
          "text": [
            "False\n"
          ]
        }
      ]
    },
    {
      "cell_type": "markdown",
      "source": [
        "We can further optimize the solution"
      ],
      "metadata": {
        "id": "pNIr97KBcbt9"
      }
    },
    {
      "cell_type": "code",
      "source": [
        "mat = [\n",
        "    [-5, -2, 1, 13],\n",
        "    [-4,  0, 3, 14],\n",
        "    [-3,  2, 6, 18]\n",
        "    ]\n",
        "\n",
        "found = False\n",
        "row = len(A)\n",
        "col = len(A[0])\n",
        "k=6\n",
        "#start iterating from the top right corner as this is a sorted matrix\n",
        "i = 0\n",
        "j = col - 1\n",
        "\n",
        "while i<n and j>=0:\n",
        "  if A[i][j] == k:\n",
        "    found = True\n",
        "    break\n",
        "  if A[i][j] < k:\n",
        "    i += 1\n",
        "  else:\n",
        "    j -= 1\n",
        "if found == True:\n",
        "  print(\"True\")\n",
        "else:\n",
        "  print(\"False\")\n",
        "\n",
        "# T.C ~ O(N+M)\n",
        "# S.C ~ O(1)"
      ],
      "metadata": {
        "colab": {
          "base_uri": "https://localhost:8080/"
        },
        "id": "Kf6mKq88cfZ9",
        "outputId": "c401fce6-afaa-4c8a-aa08-f033f19ed95e"
      },
      "execution_count": null,
      "outputs": [
        {
          "output_type": "stream",
          "name": "stdout",
          "text": [
            "True\n"
          ]
        }
      ]
    },
    {
      "cell_type": "markdown",
      "source": [
        "Given a binary sorted array square matrix of size N*N. Find the row with maximum number of 1. Note: If two row has same number of 1 then return the row with lower index"
      ],
      "metadata": {
        "id": "BoaAxo1Bkrel"
      }
    },
    {
      "cell_type": "code",
      "source": [
        "# A =[\n",
        "#     [0, 1, 1],\n",
        "#     [0, 0, 1],\n",
        "#     [0, 1, 1]\n",
        "#     ]\n",
        "\n",
        "A = [\n",
        "    [0, 0, 0, 0],\n",
        "    [0, 0, 0, 1],\n",
        "    [0, 1, 1, 1],\n",
        "    [1, 1, 1, 1]\n",
        "]\n",
        "\n",
        "n = len(A)\n",
        "m = len(A[0])\n",
        "ans = 0\n",
        "\n",
        "i = 0\n",
        "j = m-1\n",
        "\n",
        "while i<n and j>=0:\n",
        "  if A[i][j] == 1:\n",
        "    j -= 1\n",
        "    ans = i\n",
        "  else:\n",
        "    i += 1\n",
        "print(ans)\n",
        "\n",
        "# T.C ~ O(N+M)\n",
        "# S.C ~ O(1)"
      ],
      "metadata": {
        "colab": {
          "base_uri": "https://localhost:8080/"
        },
        "id": "yfOnimQbcf4N",
        "outputId": "dc066242-f6ae-4495-8589-45f66ab10fb0"
      },
      "execution_count": null,
      "outputs": [
        {
          "output_type": "stream",
          "name": "stdout",
          "text": [
            "3\n"
          ]
        }
      ]
    },
    {
      "cell_type": "markdown",
      "source": [
        "Given a matrix N*N. Print the boundary element"
      ],
      "metadata": {
        "id": "0-J6p1sbou4l"
      }
    },
    {
      "cell_type": "code",
      "source": [
        "# A = [\n",
        "#     [1, 2, 3],\n",
        "#     [4, 5, 6],\n",
        "#     [7, 8, 9]\n",
        "# ]\n",
        "\n",
        "A = [\n",
        "    [1,   2,   3,  4],\n",
        "    [5,   6,   7,  8],\n",
        "    [9,  10,  11,  12],\n",
        "    [13, 14,  15,  16]\n",
        "    ]\n",
        "\n",
        "n=len(A)\n",
        "m=len(A[0])\n",
        "\n",
        "i = 0\n",
        "j = 0\n",
        "\n",
        "while j < n-1:\n",
        "  print(A[i][j])\n",
        "  j += 1\n",
        "\n",
        "while i < n-1:\n",
        "  print(A[i][j])\n",
        "  i += 1\n",
        "\n",
        "while j > 0:\n",
        "  print(A[i][j])\n",
        "  j -= 1\n",
        "\n",
        "while i > 0:\n",
        "  print(A[i][j])\n",
        "  i -= 1\n",
        "\n",
        "# T.C ~ O(N)\n",
        "# S.C ~ O(1)"
      ],
      "metadata": {
        "colab": {
          "base_uri": "https://localhost:8080/"
        },
        "id": "ms2Ej4gFcf1d",
        "outputId": "8d5691e6-b675-4d53-eb2c-33a59353e945"
      },
      "execution_count": null,
      "outputs": [
        {
          "output_type": "stream",
          "name": "stdout",
          "text": [
            "1\n",
            "2\n",
            "3\n",
            "4\n",
            "8\n",
            "12\n",
            "16\n",
            "15\n",
            "14\n",
            "13\n",
            "9\n",
            "5\n"
          ]
        }
      ]
    },
    {
      "cell_type": "markdown",
      "source": [
        "Given a matrix N*N. Print the spiral matrix\n"
      ],
      "metadata": {
        "id": "4KEWxPxrsoed"
      }
    },
    {
      "cell_type": "code",
      "source": [
        "A = [\n",
        "    [1,   2,   3,  4],\n",
        "    [5,   6,   7,  8],\n",
        "    [9,  10,  11,  12],\n",
        "    [13, 14,  15,  16]\n",
        "]\n",
        "\n",
        "n = len(A)\n",
        "i = 0\n",
        "j = 0\n",
        "\n",
        "while n>1:\n",
        "    for k in range(n-1):\n",
        "        print(A[i][j])\n",
        "        j+=1\n",
        "    for k in range(n-1):\n",
        "        print(A[i][j])\n",
        "        i+=1\n",
        "    for k in range(n-1, 0, -1):\n",
        "        print(A[i][j])\n",
        "        j-=1\n",
        "    for k in range(n-1, 0, -1):\n",
        "        print(A[i][j])\n",
        "        i-=1\n",
        "\n",
        "    i+=1\n",
        "    j+=1\n",
        "    n-=2\n",
        "\n",
        "if n==1:\n",
        "  print(A[i][j])\n",
        "\n",
        "# T.C ~ O(N^2)\n",
        "# S.C ~ O(1)"
      ],
      "metadata": {
        "colab": {
          "base_uri": "https://localhost:8080/"
        },
        "id": "XS-v_6lvcfyt",
        "outputId": "61c9322e-45f3-4abb-9321-4bfe90552b40"
      },
      "execution_count": null,
      "outputs": [
        {
          "output_type": "stream",
          "name": "stdout",
          "text": [
            "1\n",
            "2\n",
            "3\n",
            "4\n",
            "8\n",
            "12\n",
            "16\n",
            "15\n",
            "14\n",
            "13\n",
            "9\n",
            "5\n",
            "6\n",
            "7\n",
            "11\n",
            "10\n"
          ]
        }
      ]
    },
    {
      "cell_type": "markdown",
      "source": [
        "sum of all sub-matrix sum"
      ],
      "metadata": {
        "id": "7NMZFTlE_vPL"
      }
    },
    {
      "cell_type": "code",
      "source": [
        "A = [\n",
        "    [1, 2, 3],\n",
        "    [4, 5, 6],\n",
        "    [7, 8, 9]\n",
        "]\n",
        "\n",
        "n = len(A)\n",
        "m = len(A[0])\n",
        "total = 0\n",
        "\n",
        "for i in range(n):\n",
        "  for j in range(m):\n",
        "    topLeft = (i+1)*(j+1)\n",
        "    bottomRight = (n-i)*(n-j)\n",
        "    c = A[i][j] * topLeft * bottomRight\n",
        "    total += c\n",
        "print(total)"
      ],
      "metadata": {
        "colab": {
          "base_uri": "https://localhost:8080/"
        },
        "id": "6zcyk0nacfv8",
        "outputId": "098936cb-d48d-4341-f268-5ecc209c6078"
      },
      "execution_count": null,
      "outputs": [
        {
          "output_type": "stream",
          "name": "stdout",
          "text": [
            "500\n"
          ]
        }
      ]
    },
    {
      "cell_type": "markdown",
      "source": [
        "Given an integer A, generate a square matrix filled with elements from 1 to A2 in spiral order and return the generated square matrix."
      ],
      "metadata": {
        "id": "SmHt26OxvGRz"
      }
    },
    {
      "cell_type": "code",
      "source": [
        "A=2\n",
        "ans = [[0 for _ in range(A)] for _ in range(A)]\n",
        "if A==1:\n",
        "    print([[A]])\n",
        "i=0\n",
        "j=0\n",
        "N=A\n",
        "counter = 1\n",
        "while N>1:\n",
        "    for k in range(N-1):\n",
        "        ans[i][j]=counter\n",
        "        counter+=1\n",
        "        j+=1\n",
        "    for k in range(N-1):\n",
        "        ans[i][j]=counter\n",
        "        counter+=1\n",
        "        i+=1\n",
        "    for k in range(N-1, 0, -1):\n",
        "        ans[i][j]=counter\n",
        "        counter+=1\n",
        "        j-=1\n",
        "    for k in range(N-1, 0, -1):\n",
        "        ans[i][j]=counter\n",
        "        counter+=1\n",
        "        i-=1\n",
        "\n",
        "    i+=1\n",
        "    j+=1\n",
        "    N-=2\n",
        "if N==1:\n",
        "    ans[i][j]=counter\n",
        "print(ans)"
      ],
      "metadata": {
        "colab": {
          "base_uri": "https://localhost:8080/"
        },
        "id": "ZyBOvN7_4SYj",
        "outputId": "bddc644b-caf7-49f5-972c-be2f5e938d99"
      },
      "execution_count": 6,
      "outputs": [
        {
          "output_type": "stream",
          "name": "stdout",
          "text": [
            "[[1, 2], [4, 3]]\n"
          ]
        }
      ]
    },
    {
      "cell_type": "markdown",
      "source": [
        "Given an array of integers A and an integer B, find and return the minimum number of swaps required to bring all the numbers less than or equal to B together.\n",
        "\n",
        "Note: It is possible to swap any two elements, not necessarily consecutive."
      ],
      "metadata": {
        "id": "-bAWhKUfwMS7"
      }
    },
    {
      "cell_type": "code",
      "source": [
        "# A = [1, 12, 10, 3, 14, 10, 5]\n",
        "# B = 8\n",
        "\n",
        "A = [5, 17, 100, 11]\n",
        "B = 20\n",
        "\n",
        "n = len(A)\n",
        "lessThanCount = 0\n",
        "count = 0\n",
        "ans = 1000000000000000000\n",
        "for i in range(n):\n",
        "    if A[i] <= B:\n",
        "        lessThanCount += 1\n",
        "startIndex = 0\n",
        "endIndex = lessThanCount-1\n",
        "while endIndex < n:\n",
        "    for i in range(startIndex, endIndex+1):\n",
        "        if A[i]>B:\n",
        "            count += 1\n",
        "\n",
        "    ans = min(ans, count)\n",
        "    startIndex += 1\n",
        "    endIndex += 1\n",
        "\n",
        "print(ans)"
      ],
      "metadata": {
        "id": "YpgaUaZrMvN1",
        "colab": {
          "base_uri": "https://localhost:8080/"
        },
        "outputId": "73ad0c4f-af16-4a02-c396-fdd431642399"
      },
      "execution_count": 10,
      "outputs": [
        {
          "output_type": "stream",
          "name": "stdout",
          "text": [
            "1\n"
          ]
        }
      ]
    },
    {
      "cell_type": "code",
      "source": [],
      "metadata": {
        "id": "sH8XBLu3xnK7"
      },
      "execution_count": null,
      "outputs": []
    }
  ]
}