{
  "nbformat": 4,
  "nbformat_minor": 0,
  "metadata": {
    "colab": {
      "provenance": [],
      "authorship_tag": "ABX9TyOeGySPDWisu8KnXX9XO8Wx",
      "include_colab_link": true
    },
    "kernelspec": {
      "name": "python3",
      "display_name": "Python 3"
    },
    "language_info": {
      "name": "python"
    }
  },
  "cells": [
    {
      "cell_type": "markdown",
      "metadata": {
        "id": "view-in-github",
        "colab_type": "text"
      },
      "source": [
        "<a href=\"https://colab.research.google.com/github/sovank/dsa-with-python/blob/main/Day32_Arrays_3_Interview_Problems.ipynb\" target=\"_parent\"><img src=\"https://colab.research.google.com/assets/colab-badge.svg\" alt=\"Open In Colab\"/></a>"
      ]
    },
    {
      "cell_type": "markdown",
      "source": [
        "You have a set of non-overlapping intervals. You are given a new interval [start, end], insert this new interval into the set of intervals (merge if necessary).\n",
        "\n",
        "You may assume that the intervals were initially sorted according to their start times."
      ],
      "metadata": {
        "id": "3XT36uuSxg3E"
      }
    },
    {
      "cell_type": "code",
      "execution_count": 4,
      "metadata": {
        "id": "ePVX4slSwxmq",
        "colab": {
          "base_uri": "https://localhost:8080/"
        },
        "outputId": "1bf65b32-b2b7-4f88-ea48-a8c324856939"
      },
      "outputs": [
        {
          "output_type": "stream",
          "name": "stdout",
          "text": [
            "[[1, 2], [3, 6], [8, 10]]\n"
          ]
        }
      ],
      "source": [
        "A = [[1, 2], [3, 6]]\n",
        "B = [8,10]\n",
        "\n",
        "n = len(A)\n",
        "ans = []\n",
        "insert = False\n",
        "\n",
        "for i in range(n):\n",
        "  start = A[i][0]\n",
        "  end = A[i][1]\n",
        "  if B[0]<=start:\n",
        "      A.insert(i, B)\n",
        "      insert = True\n",
        "      break\n",
        "if insert == False:\n",
        "  A.append(B)\n",
        "\n",
        "n = len(A)\n",
        "s_current = A[0][0]\n",
        "e_current = A[0][1]\n",
        "\n",
        "for i in range(1, n):\n",
        "    s_i = A[i][0]\n",
        "    e_i = A[i][1]\n",
        "\n",
        "    if e_current >= s_i:\n",
        "        #condition to check the overlap\n",
        "        s_current = min(s_current, s_i)\n",
        "        e_current = max(e_current, e_i)\n",
        "\n",
        "    else:\n",
        "        #if no overlap append the array\n",
        "        ans.append([s_current, e_current])\n",
        "        s_current = s_i\n",
        "        e_current = e_i\n",
        "ans.append([s_current, e_current])\n",
        "print(ans)"
      ]
    },
    {
      "cell_type": "markdown",
      "source": [
        "Given an unsorted integer array, A of size N. Find the first missing positive integer.\n",
        "\n",
        "Note: Your algorithm should run in O(n) time and use constant space."
      ],
      "metadata": {
        "id": "ChwDCmObNiMe"
      }
    },
    {
      "cell_type": "code",
      "source": [
        "# Brute Force\n",
        "A = [-3, -2, 1, 2, 7]\n",
        "#A= [1, 2, 3, 4, 5]\n",
        "n=len(A)\n",
        "\n",
        "for i in range(1, n+1):\n",
        "    if i not in A: # The in operator has a time complexity of O(N) because it may potentially need to iterate through all elements of the list A to find the value i.\n",
        "      print(i)\n",
        "      break #we will return from here so last line wont be executed\n",
        "    elif i in A:\n",
        "      continue\n",
        "print(i+1) #we will return from here\n",
        "\n",
        "# T.C ~ O(N^2)\n",
        "# S.C ~ O(1)"
      ],
      "metadata": {
        "colab": {
          "base_uri": "https://localhost:8080/"
        },
        "id": "njgEJ3a7FTsd",
        "outputId": "d2e3e2ab-e98d-46a0-cb30-3da9230c9d8b"
      },
      "execution_count": 13,
      "outputs": [
        {
          "output_type": "stream",
          "name": "stdout",
          "text": [
            "3\n",
            "4\n"
          ]
        }
      ]
    },
    {
      "cell_type": "code",
      "source": [
        "A = [-3, -2, 1, 2, 7]\n",
        "#A= [1, 2, 3, 4, 5]\n",
        "n=len(A)\n",
        "ans=[0]*(n+1)\n",
        "\n",
        "for i in range(n):\n",
        "    if 1<=A[i]<=n+1:\n",
        "        ans[A[i]-1] = 1\n",
        "\n",
        "for i in range(n+1):\n",
        "    if ans[i] == 0:\n",
        "        print(i+1) # We will return values here so either one of them will be returned\n",
        "        break\n",
        "print(n+1) # We will return values here\n",
        "\n",
        "# T.C ~ O(N)\n",
        "# S.C ~ O(1)"
      ],
      "metadata": {
        "colab": {
          "base_uri": "https://localhost:8080/"
        },
        "id": "EQGaLHjtQok4",
        "outputId": "0f154573-f424-4c8a-ef21-0f42361d9c40"
      },
      "execution_count": 16,
      "outputs": [
        {
          "output_type": "stream",
          "name": "stdout",
          "text": [
            "3\n",
            "6\n"
          ]
        }
      ]
    },
    {
      "cell_type": "code",
      "source": [],
      "metadata": {
        "id": "ZDp1igTYUTr7"
      },
      "execution_count": null,
      "outputs": []
    }
  ]
}