{
  "nbformat": 4,
  "nbformat_minor": 0,
  "metadata": {
    "colab": {
      "provenance": [],
      "authorship_tag": "ABX9TyPb60aZ6nxHkSco8+N3b8VY",
      "include_colab_link": true
    },
    "kernelspec": {
      "name": "python3",
      "display_name": "Python 3"
    },
    "language_info": {
      "name": "python"
    }
  },
  "cells": [
    {
      "cell_type": "markdown",
      "metadata": {
        "id": "view-in-github",
        "colab_type": "text"
      },
      "source": [
        "<a href=\"https://colab.research.google.com/github/Phanindra2009/dsa-with-python/blob/main/Day_45_DSA_Hashing_1_Introduction.ipynb\" target=\"_parent\"><img src=\"https://colab.research.google.com/assets/colab-badge.svg\" alt=\"Open In Colab\"/></a>"
      ]
    },
    {
      "cell_type": "markdown",
      "source": [
        "# **Q1. Frequency of element query**\n",
        "\n",
        "Problem Description:\n",
        "\n",
        "Given an array A. You have some integers given in the array B.\n",
        "For the i-th number, find the frequency of B[i] in the array A and return a list containing all the frequencies.\n",
        "\n",
        "\n",
        "Problem Constraints:\n",
        "\n",
        "## 1 <= |A| <= 10^5\n",
        "## 1 <= |B| <= 10^5\n",
        "## 1 <= A[i] <= 10^5\n",
        "## 1 <= B[i] <= 10^5\n",
        "\n",
        "\n",
        "Input Format:\n",
        "\n",
        "First argument A is an array of integers.\n",
        "Second argument B is an array of integers denoting the queries.\n",
        "\n",
        "\n",
        "Output Format:\n",
        "\n",
        "Return an array of integers containing frequency of the each element in B.\n",
        "\n",
        "\n",
        "Example Input:\n",
        "\n",
        "Input 1:\n",
        "\n",
        "A = [1, 2, 1, 1]\n",
        "\n",
        "B = [1, 2]\n",
        "\n",
        "Input 2:\n",
        "\n",
        "A = [2, 5, 9, 2, 8]\n",
        "\n",
        "B = [3, 2]\n",
        "\n",
        "\n",
        "Example Output\n",
        "Output 1:\n",
        "[3, 1]\n",
        "Output 2:\n",
        "[0, 2]\n",
        "\n",
        "\n",
        "Example Explanation:\n",
        "\n",
        "For Input 1:\n",
        "\n",
        "The frequency of 1 in the array A is 3.\n",
        "\n",
        "The frequency of 2 in the array A is 1.\n",
        "\n",
        "For Input 2:\n",
        "\n",
        "The frequency of 3 in the array A is 0.\n",
        "\n",
        "The frequency of 2 in the array A is 2."
      ],
      "metadata": {
        "id": "BL5yrlRAfDTG"
      }
    },
    {
      "cell_type": "code",
      "execution_count": null,
      "metadata": {
        "id": "7dr4P3MZeCR-"
      },
      "outputs": [],
      "source": [
        "A = list(map(int,input().split()))\n",
        "B = list(map(int,input().split()))\n",
        "freq_of_A_ele = {}\n",
        "ans = []\n",
        "for i in A:\n",
        "    if i in freq_of_A_ele:\n",
        "        freq_of_A_ele[i] += 1\n",
        "    else:\n",
        "        freq_of_A_ele[i] = 1\n",
        "for i in B:\n",
        "    if i in freq_of_A_ele:\n",
        "        ans.append(freq_of_A_ele.get(i))\n",
        "    else:\n",
        "        ans.append(0)\n",
        "print(ans)"
      ]
    }
  ]
}