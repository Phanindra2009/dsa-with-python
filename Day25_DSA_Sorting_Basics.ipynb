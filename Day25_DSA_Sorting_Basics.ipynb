{
  "nbformat": 4,
  "nbformat_minor": 0,
  "metadata": {
    "colab": {
      "provenance": [],
      "authorship_tag": "ABX9TyNAbyltXtpGlkXYf5WafDBE"
    },
    "kernelspec": {
      "name": "python3",
      "display_name": "Python 3"
    },
    "language_info": {
      "name": "python"
    }
  },
  "cells": [
    {
      "cell_type": "markdown",
      "source": [
        "Q1. Elements Removal\n",
        "\n",
        "Given an integer array A of size N. You can remove any element from the array in one operation. The cost of this operation is the sum of all elements in the array present before this operation.\n",
        "\n",
        "Find the minimum cost to remove all elements from the array."
      ],
      "metadata": {
        "id": "y_CHGwT8XxO4"
      }
    },
    {
      "cell_type": "code",
      "source": [
        "A = [4, 2, 1]\n",
        "A.sort(reverse=True)\n",
        "cost = 0\n",
        "for i in range(len(A)):\n",
        "    cost += A[i]*(i+1)\n",
        "print(cost)"
      ],
      "metadata": {
        "colab": {
          "base_uri": "https://localhost:8080/"
        },
        "id": "MN5bba-pXzm3",
        "outputId": "7c55b829-99c9-4f70-b2df-1621fb13365a"
      },
      "execution_count": 2,
      "outputs": [
        {
          "output_type": "stream",
          "name": "stdout",
          "text": [
            "11\n"
          ]
        }
      ]
    },
    {
      "cell_type": "markdown",
      "source": [
        "Q2. Noble integers:\n",
        "\n",
        "Given N array elements, calculate no. of noble integers.\n",
        "\n",
        "NI: An element in Array is called noble if **no. of elements < element == element**"
      ],
      "metadata": {
        "id": "-DyeGyVTYMoA"
      }
    },
    {
      "cell_type": "code",
      "source": [
        "A = [-1, -5, 3, 5, -10, 4]\n",
        "A.sort(reverse=True)                    #NlogN\n",
        "noble = 0\n",
        "for i in range(len(A)):                 #N\n",
        "  count = 0\n",
        "  for j in range(i, len(A)):            #N\n",
        "    if A[i]>A[j]:\n",
        "      count+=1\n",
        "    if count == A[i]:\n",
        "      noble+=1\n",
        "print(noble)\n",
        "\n",
        "#T.C = O(NlogN) + O(N^2) ---> O(N^2)\n",
        "#S.C = O(1)"
      ],
      "metadata": {
        "colab": {
          "base_uri": "https://localhost:8080/"
        },
        "id": "1kpLFyhXX9wW",
        "outputId": "d56663d0-2071-44d8-d35a-9e2ee25a30e1"
      },
      "execution_count": 4,
      "outputs": [
        {
          "output_type": "stream",
          "name": "stdout",
          "text": [
            "3\n"
          ]
        }
      ]
    },
    {
      "cell_type": "code",
      "source": [
        "A = [-1, -5, 3, 5, -10, 4]\n",
        "A.sort()                            #NlogN\n",
        "for i in range(len(A)):\n",
        "  if A[i]==i:\n",
        "    nobleCount+=1\n",
        "print(nobleCount)\n",
        "\n",
        "#T.C = O(NlogN)\n",
        "#S.C = O(1)\n",
        "# Though the time complexity of the code has reduced howevever the above code works only with distinct elements in the array"
      ],
      "metadata": {
        "colab": {
          "base_uri": "https://localhost:8080/"
        },
        "id": "OwcbX_J3ZE-a",
        "outputId": "cbbae25b-ef16-40f9-c703-8fb7b34afb78"
      },
      "execution_count": 5,
      "outputs": [
        {
          "output_type": "stream",
          "name": "stdout",
          "text": [
            "3\n"
          ]
        }
      ]
    },
    {
      "cell_type": "code",
      "source": [
        "#Optimised solution covering all the edge cases\n",
        "A = [-1, -5, 3, 3, 5, -10, 4]\n",
        "A.sort()\n",
        "lessThanNumber = 0\n",
        "nobleCount = 0\n",
        "if A[0] == 0:\n",
        "  nobleCount = 1\n",
        "for i in range(1, len(A)):\n",
        "  if A[i]!=A[i-1]:\n",
        "    lessThanNumber=i\n",
        "  if lessThanNumber == A[i]:\n",
        "    nobleCount+=1\n",
        "print(nobleCount)\n",
        "\n",
        "#T.C = O(NlogN)\n",
        "#S.C = O(1)"
      ],
      "metadata": {
        "colab": {
          "base_uri": "https://localhost:8080/"
        },
        "id": "rKAq6e6fcGSR",
        "outputId": "37ab5ddf-adae-401a-ae02-d7f81a46f250"
      },
      "execution_count": 10,
      "outputs": [
        {
          "output_type": "stream",
          "name": "stdout",
          "text": [
            "2\n"
          ]
        }
      ]
    },
    {
      "cell_type": "code",
      "source": [
        "#One more example\n",
        "A = [-10, 1, 1, 2, 4, 4, 4, 8, 10]\n",
        "A.sort()\n",
        "lessThanNumber = 0\n",
        "nobleCount = 0\n",
        "if A[0] == 0:\n",
        "  nobleCount = 1\n",
        "for i in range(1, len(A)):\n",
        "  if A[i]!=A[i-1]:\n",
        "    lessThanNumber=i\n",
        "  if lessThanNumber == A[i]:\n",
        "    nobleCount+=1\n",
        "print(nobleCount)\n",
        "\n",
        "#T.C = O(NlogN)\n",
        "#S.C = O(1)"
      ],
      "metadata": {
        "colab": {
          "base_uri": "https://localhost:8080/"
        },
        "id": "ejm-6JnfjxEf",
        "outputId": "755ad045-231e-4c4e-9dfb-761db2909d0f"
      },
      "execution_count": 11,
      "outputs": [
        {
          "output_type": "stream",
          "name": "stdout",
          "text": [
            "5\n"
          ]
        }
      ]
    },
    {
      "cell_type": "code",
      "source": [],
      "metadata": {
        "id": "UtzXdrEQmAgm"
      },
      "execution_count": null,
      "outputs": []
    }
  ]
}