{
  "nbformat": 4,
  "nbformat_minor": 0,
  "metadata": {
    "colab": {
      "provenance": [],
      "authorship_tag": "ABX9TyMMwm0CDU66gACNI7VQThG2",
      "include_colab_link": true
    },
    "kernelspec": {
      "name": "python3",
      "display_name": "Python 3"
    },
    "language_info": {
      "name": "python"
    }
  },
  "cells": [
    {
      "cell_type": "markdown",
      "metadata": {
        "id": "view-in-github",
        "colab_type": "text"
      },
      "source": [
        "<a href=\"https://colab.research.google.com/github/Phanindra2009/dsa-with-python/blob/main/Day_26_DSA_Bit_Manipulations_Basics.ipynb\" target=\"_parent\"><img src=\"https://colab.research.google.com/assets/colab-badge.svg\" alt=\"Open In Colab\"/></a>"
      ]
    },
    {
      "cell_type": "markdown",
      "source": [
        "# Q1. Decimal to Binary\n",
        "Problem Description\n",
        "You are given an integer A in decimal (base 10).\n",
        "Return a string denoting the binary (base 2) form of the integer A.\n",
        "\n",
        "\n",
        "\n",
        "Problem Constraints\n",
        "1 <= A <= 109\n",
        "\n",
        "\n",
        "\n",
        "Input Format\n",
        "The first line of input contains the integer T, denoting the number of test cases.\n",
        "Next T lines contain a single integer A, denoting the integer for that test case.\n",
        "\n",
        "\n",
        "\n",
        "Output Format\n",
        "Print T lines. In each line, print the string denoting the binary representation of A.\n",
        "\n",
        "\n",
        "\n",
        "Example Input\n",
        "Input 1:\n",
        "\n",
        " 1\n",
        " 10\n",
        "Input 2:\n",
        "\n",
        " 2\n",
        " 10\n",
        " 11\n",
        "\n",
        "\n",
        "Example Output\n",
        "Output 1:\n",
        "\n",
        " 1010\n",
        "Output 2:\n",
        "\n",
        " 1010\n",
        " 1011\n",
        "\n",
        "\n",
        "Example Explanation\n",
        "Explanation 1:\n",
        "\n",
        "The binary form of 10 is given by -> '1010'\n",
        "Explanation 2:\n",
        "\n",
        "The binary form of 11 is given by -> '1011'\n",
        "\n",
        "\n"
      ],
      "metadata": {
        "id": "tJwIIUdisvjO"
      }
    },
    {
      "cell_type": "code",
      "execution_count": null,
      "metadata": {
        "id": "pkQ0kgg8sgg0"
      },
      "outputs": [],
      "source": [
        "def main():\n",
        "    Test_cases = int(input())\n",
        "    for _ in range(Test_cases):\n",
        "        A = int(input())\n",
        "        bin_of_A = 0\n",
        "        i = 0\n",
        "        while A > 0:\n",
        "            bin_of_A += (A % 2) * (10 ** i)\n",
        "            A = A//2\n",
        "            i += 1\n",
        "        print(bin_of_A)\n",
        "\n",
        "\n",
        "    return 0\n",
        "\n",
        "if __name__ == '__main__':\n",
        "    main()"
      ]
    },
    {
      "cell_type": "code",
      "source": [],
      "metadata": {
        "id": "ZyH4NrBTwlvS"
      },
      "execution_count": null,
      "outputs": []
    }
  ]
}