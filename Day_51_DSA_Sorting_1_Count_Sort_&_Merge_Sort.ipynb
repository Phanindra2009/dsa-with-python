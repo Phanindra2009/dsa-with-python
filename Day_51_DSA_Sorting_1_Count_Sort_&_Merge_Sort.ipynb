{
  "nbformat": 4,
  "nbformat_minor": 0,
  "metadata": {
    "colab": {
      "provenance": [],
      "authorship_tag": "ABX9TyMdUOqOA9IhBp8qZMHaRTt6",
      "include_colab_link": true
    },
    "kernelspec": {
      "name": "python3",
      "display_name": "Python 3"
    },
    "language_info": {
      "name": "python"
    }
  },
  "cells": [
    {
      "cell_type": "markdown",
      "metadata": {
        "id": "view-in-github",
        "colab_type": "text"
      },
      "source": [
        "<a href=\"https://colab.research.google.com/github/Phanindra2009/dsa-with-python/blob/main/Day_51_DSA_Sorting_1_Count_Sort_%26_Merge_Sort.ipynb\" target=\"_parent\"><img src=\"https://colab.research.google.com/assets/colab-badge.svg\" alt=\"Open In Colab\"/></a>"
      ]
    },
    {
      "cell_type": "markdown",
      "source": [
        "# **Q1. Merge Two Sorted Arrays**\n",
        "Problem Description:\n",
        "\n",
        "Given two sorted integer arrays A and B, merge B and A as one sorted array and return it as an output.\n",
        "\n",
        "Note: A linear time complexity is expected and you should avoid use of any library function.\n",
        "\n",
        "\n",
        "\n",
        "Problem Constraints:\n",
        "\n",
        "## -2×10^9 <= A[i], B[i] <= 2×10^9\n",
        "\n",
        "## 1 <= |A|, |B| <= 5×10^4\n",
        "\n",
        "\n",
        "Input Format:\n",
        "\n",
        "First Input is a 1-D array representing  A.\n",
        "\n",
        "Second Input is also a 1-D array representing B.\n",
        "\n",
        "\n",
        "Output Format:\n",
        "\n",
        "Print a 1-D vector which you got after merging A and B.\n",
        "\n",
        "\n",
        "Example Input:\n",
        "\n",
        "Input 1:\n",
        "\n",
        "A = [4, 7, 9]\n",
        "\n",
        "B = [2, 11, 19]\n",
        "\n",
        "Input 2:\n",
        "\n",
        "A = [1]\n",
        "\n",
        "B = [2]\n",
        "\n",
        "\n",
        "Example Output:\n",
        "\n",
        "Output 1:\n",
        "\n",
        "[2, 4, 7, 9, 11, 19]\n",
        "\n",
        "Output 2:\n",
        "\n",
        "[1, 2]\n",
        "\n",
        "\n",
        "Example Explanation:\n",
        "\n",
        "Explanation 1:\n",
        "\n",
        "Merging A and B produces the output as described above.\n",
        "\n",
        "Explanation 2:\n",
        "\n",
        " Merging A and B produces the output as described above."
      ],
      "metadata": {
        "id": "g5poHopGZxqC"
      }
    },
    {
      "cell_type": "code",
      "execution_count": null,
      "metadata": {
        "id": "tEnvFnOKZqXM"
      },
      "outputs": [],
      "source": [
        "A = list(map(int, input().split()))\n",
        "B = list(map(int, input().split()))\n",
        "N = len(A)\n",
        "M = len(B)\n",
        "p1 = 0\n",
        "p2 = 0\n",
        "ans = []\n",
        "while p1 < N and p2 < M:\n",
        "    if A[p1] <= B[p2]:\n",
        "        ans.append(A[p1])\n",
        "        p1 += 1\n",
        "    else:\n",
        "        ans.append(B[p2])\n",
        "        p2 += 1\n",
        "while p1 < N:\n",
        "    ans.append(A[p1])\n",
        "    p1 += 1\n",
        "while p2 < M:\n",
        "    ans.append(B[p2])\n",
        "    p2 += 1\n",
        "print(ans)"
      ]
    }
  ]
}