{
  "nbformat": 4,
  "nbformat_minor": 0,
  "metadata": {
    "colab": {
      "provenance": [],
      "authorship_tag": "ABX9TyMM9dTTaLE/z5GYXZLW+DYn",
      "include_colab_link": true
    },
    "kernelspec": {
      "name": "python3",
      "display_name": "Python 3"
    },
    "language_info": {
      "name": "python"
    }
  },
  "cells": [
    {
      "cell_type": "markdown",
      "metadata": {
        "id": "view-in-github",
        "colab_type": "text"
      },
      "source": [
        "<a href=\"https://colab.research.google.com/github/sovank/dsa-with-python/blob/main/Day30_Array1_.ipynb\" target=\"_parent\"><img src=\"https://colab.research.google.com/assets/colab-badge.svg\" alt=\"Open In Colab\"/></a>"
      ]
    },
    {
      "cell_type": "code",
      "execution_count": null,
      "metadata": {
        "colab": {
          "base_uri": "https://localhost:8080/"
        },
        "id": "kXAH4FmCoSJ4",
        "outputId": "c57219b4-2c20-46a1-fa59-787fda4ef8ab"
      },
      "outputs": [
        {
          "output_type": "stream",
          "name": "stdout",
          "text": [
            "[0, 3, 3, 3]\n",
            "[4, 4, 4, 0]\n",
            "4\n"
          ]
        }
      ],
      "source": [
        "A = [3, 2, 0, 4]\n",
        "n=len(A)\n",
        "lmax = [0]*n\n",
        "rmax = [0]*n\n",
        "water = 0\n",
        "ans = 0\n",
        "for i in range(1, n):\n",
        "  lmax[i] = max(lmax[i-1], A[i-1])\n",
        "\n",
        "print(lmax)\n",
        "\n",
        "for i in range(n-2, -1, -1):\n",
        "  rmax[i] = max(rmax[i+1], A[i+1])\n",
        "\n",
        "print(rmax)\n",
        "\n",
        "for i in range(1, n-1):\n",
        "  water = min(lmax[i], rmax[i]) - A[i]\n",
        "  if water>0:\n",
        "    ans += water\n",
        "print(ans)"
      ]
    },
    {
      "cell_type": "code",
      "source": [],
      "metadata": {
        "id": "aGA1dTIuobjw"
      },
      "execution_count": null,
      "outputs": []
    },
    {
      "cell_type": "markdown",
      "source": [
        "Maximum sub-array sum"
      ],
      "metadata": {
        "id": "7jXMFluPL-Gq"
      }
    },
    {
      "cell_type": "code",
      "source": [
        "#Brute\n",
        "A = [-2, 3, 4, -1, 5, -10, 7]\n",
        "#A = [-3, 4, 6, 8, -10, 2, 7]\n",
        "#A = [4, 5, 2, 1, 6]\n",
        "#A = [-4, -3, -6, -9, -2]\n",
        "n=len(A)\n",
        "ans = -1000000000000000000\n",
        "for i in range(n):\n",
        "  for j in range(i, n):\n",
        "    sub = 0\n",
        "    for k in range(i, j+1):\n",
        "      sub += A[k]\n",
        "    ans = max(ans, sub)\n",
        "print(ans)\n",
        "\n",
        "#T.C~O(N^3)\n",
        "#S.C~O(1)"
      ],
      "metadata": {
        "colab": {
          "base_uri": "https://localhost:8080/"
        },
        "id": "erFWIu_FMDLl",
        "outputId": "04adb566-9879-4de5-fb00-ba84a16ed73e"
      },
      "execution_count": 26,
      "outputs": [
        {
          "output_type": "stream",
          "name": "stdout",
          "text": [
            "11\n"
          ]
        }
      ]
    },
    {
      "cell_type": "code",
      "source": [
        "#Using Prefix sum to reduce the Time complexity\n",
        "\n",
        "#Samples\n",
        "A = [-2, 3, 4, -1, 5, -10, 7]\n",
        "#A = [-3, 4, 6, 8, -10, 2, 7]\n",
        "#A = [4, 5, 2, 1, 6]\n",
        "#A = [-4, -3, -6, -9, -2]\n",
        "\n",
        "\n",
        "n=len(A)\n",
        "pfsum = [0]*n\n",
        "pfsum[0] = A[0]\n",
        "ans = -1000000000000000000\n",
        "for i in range(1, n):\n",
        "  pfsum[i] = pfsum[i-1] + A[i]\n",
        "for i in range(n):\n",
        "  for j in range(i, n):\n",
        "    if i==0:\n",
        "      sub = pfsum[j]\n",
        "    else:\n",
        "      sub = pfsum[j] - pfsum[i-1]\n",
        "    ans = max(ans, sub)\n",
        "print(ans)\n",
        "\n",
        "#T.C~O(N^2)\n",
        "#S.C~O(N)"
      ],
      "metadata": {
        "colab": {
          "base_uri": "https://localhost:8080/"
        },
        "id": "NCI4nyuTM4Lf",
        "outputId": "2b4621f9-e3a8-4134-fd26-b89447bcd13f"
      },
      "execution_count": 28,
      "outputs": [
        {
          "output_type": "stream",
          "name": "stdout",
          "text": [
            "11\n"
          ]
        }
      ]
    },
    {
      "cell_type": "code",
      "source": [
        "#Using Carry Forward to reduce the Space Complexity\n",
        "\n",
        "#Samples\n",
        "A = [-2, 3, 4, -1, 5, -10, 7]\n",
        "#A = [-3, 4, 6, 8, -10, 2, 7]\n",
        "#A = [4, 5, 2, 1, 6]\n",
        "#A = [-4, -3, -6, -9, -2]\n",
        "\n",
        "\n",
        "n=len(A)\n",
        "ans = -1000000000000000000\n",
        "currSum = 0\n",
        "totSum = 0\n",
        "for i in range(n):\n",
        "  currSum = 0\n",
        "  for j in range(i, n):\n",
        "    currSum += A[j]\n",
        "    ans = max(ans, currSum)\n",
        "print(ans)\n",
        "\n",
        "#T.C~O(N^2)\n",
        "#S.C~O(1)"
      ],
      "metadata": {
        "colab": {
          "base_uri": "https://localhost:8080/"
        },
        "id": "RwZyaJH5PRCP",
        "outputId": "d799362a-b4a2-4bef-951c-66805b5bdaeb"
      },
      "execution_count": 29,
      "outputs": [
        {
          "output_type": "stream",
          "name": "stdout",
          "text": [
            "11\n"
          ]
        }
      ]
    },
    {
      "cell_type": "code",
      "source": [
        "#Using Kadane's Algorithm to reduce the Time Complexity further to O(N)\n",
        "\n",
        "#Samples\n",
        "A = [-2, 3, 4, -1, 5, -10, 7]\n",
        "#A = [-3, 4, 6, 8, -10, 2, 7]\n",
        "#A = [4, 5, 2, 1, 6]\n",
        "#A = [-4, -3, -6, -9, -2]\n",
        "\n",
        "\n",
        "n=len(A)\n",
        "maxSum = -1000000000000000000\n",
        "currSum = 0\n",
        "totSum = 0\n",
        "\n",
        "for i in range(n):\n",
        "    currSum += A[i]\n",
        "    if currSum > maxSum:\n",
        "      maxSum = currSum\n",
        "    if currSum < 0:\n",
        "      currSum = 0\n",
        "print(maxSum)\n",
        "\n",
        "#T.C~O(N)\n",
        "#S.C~O(1)"
      ],
      "metadata": {
        "colab": {
          "base_uri": "https://localhost:8080/"
        },
        "id": "rWWx3c91RD_g",
        "outputId": "481b582f-ae17-4a8a-f673-0730b7a8c82d"
      },
      "execution_count": 30,
      "outputs": [
        {
          "output_type": "stream",
          "name": "stdout",
          "text": [
            "11\n"
          ]
        }
      ]
    },
    {
      "cell_type": "code",
      "source": [],
      "metadata": {
        "id": "6DUhT_-wYLAJ"
      },
      "execution_count": null,
      "outputs": []
    }
  ]
}