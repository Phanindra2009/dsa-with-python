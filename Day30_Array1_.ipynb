{
  "nbformat": 4,
  "nbformat_minor": 0,
  "metadata": {
    "colab": {
      "provenance": [],
      "authorship_tag": "ABX9TyP9oS40o/rgCOxeGdQ+rG9Z",
      "include_colab_link": true
    },
    "kernelspec": {
      "name": "python3",
      "display_name": "Python 3"
    },
    "language_info": {
      "name": "python"
    }
  },
  "cells": [
    {
      "cell_type": "markdown",
      "metadata": {
        "id": "view-in-github",
        "colab_type": "text"
      },
      "source": [
        "<a href=\"https://colab.research.google.com/github/sovank/dsa-with-python/blob/main/Day30_Array1_.ipynb\" target=\"_parent\"><img src=\"https://colab.research.google.com/assets/colab-badge.svg\" alt=\"Open In Colab\"/></a>"
      ]
    },
    {
      "cell_type": "markdown",
      "source": [
        "Maximum sub-array sum"
      ],
      "metadata": {
        "id": "7jXMFluPL-Gq"
      }
    },
    {
      "cell_type": "code",
      "source": [
        "#Brute\n",
        "A = [-2, 3, 4, -1, 5, -10, 7]\n",
        "#A = [-3, 4, 6, 8, -10, 2, 7]\n",
        "#A = [4, 5, 2, 1, 6]\n",
        "#A = [-4, -3, -6, -9, -2]\n",
        "n=len(A)\n",
        "ans = -1000000000000000000\n",
        "for i in range(n):\n",
        "  for j in range(i, n):\n",
        "    sub = 0\n",
        "    for k in range(i, j+1):\n",
        "      sub += A[k]\n",
        "    ans = max(ans, sub)\n",
        "print(ans)\n",
        "\n",
        "#T.C~O(N^3)\n",
        "#S.C~O(1)"
      ],
      "metadata": {
        "colab": {
          "base_uri": "https://localhost:8080/"
        },
        "id": "erFWIu_FMDLl",
        "outputId": "04adb566-9879-4de5-fb00-ba84a16ed73e"
      },
      "execution_count": 26,
      "outputs": [
        {
          "output_type": "stream",
          "name": "stdout",
          "text": [
            "11\n"
          ]
        }
      ]
    },
    {
      "cell_type": "code",
      "source": [
        "#Using Prefix sum to reduce the Time complexity\n",
        "\n",
        "#Samples\n",
        "A = [-2, 3, 4, -1, 5, -10, 7]\n",
        "#A = [-3, 4, 6, 8, -10, 2, 7]\n",
        "#A = [4, 5, 2, 1, 6]\n",
        "#A = [-4, -3, -6, -9, -2]\n",
        "\n",
        "\n",
        "n=len(A)\n",
        "pfsum = [0]*n\n",
        "pfsum[0] = A[0]\n",
        "ans = -1000000000000000000\n",
        "for i in range(1, n):\n",
        "  pfsum[i] = pfsum[i-1] + A[i]\n",
        "for i in range(n):\n",
        "  for j in range(i, n):\n",
        "    if i==0:\n",
        "      sub = pfsum[j]\n",
        "    else:\n",
        "      sub = pfsum[j] - pfsum[i-1]\n",
        "    ans = max(ans, sub)\n",
        "print(ans)\n",
        "\n",
        "#T.C~O(N^2)\n",
        "#S.C~O(N)"
      ],
      "metadata": {
        "colab": {
          "base_uri": "https://localhost:8080/"
        },
        "id": "NCI4nyuTM4Lf",
        "outputId": "f938f39d-8cfb-45d7-d620-982b05599dfb"
      },
      "execution_count": 32,
      "outputs": [
        {
          "output_type": "stream",
          "name": "stdout",
          "text": [
            "11\n"
          ]
        }
      ]
    },
    {
      "cell_type": "code",
      "source": [
        "#Using Carry Forward to reduce the Space Complexity\n",
        "\n",
        "#Samples\n",
        "A = [-2, 3, 4, -1, 5, -10, 7]\n",
        "#A = [-3, 4, 6, 8, -10, 2, 7]\n",
        "#A = [4, 5, 2, 1, 6]\n",
        "#A = [-4, -3, -6, -9, -2]\n",
        "\n",
        "\n",
        "n=len(A)\n",
        "ans = -1000000000000000000\n",
        "for i in range(n):\n",
        "  currSum = 0\n",
        "  for j in range(i, n):\n",
        "    currSum += A[j]\n",
        "    ans = max(ans, currSum)\n",
        "print(ans)\n",
        "\n",
        "#T.C~O(N^2)\n",
        "#S.C~O(1)"
      ],
      "metadata": {
        "colab": {
          "base_uri": "https://localhost:8080/"
        },
        "id": "RwZyaJH5PRCP",
        "outputId": "d1ceb0aa-f424-43ec-aeb6-b9c275067b95"
      },
      "execution_count": 34,
      "outputs": [
        {
          "output_type": "stream",
          "name": "stdout",
          "text": [
            "11\n"
          ]
        }
      ]
    },
    {
      "cell_type": "code",
      "source": [
        "#Using Kadane's Algorithm to reduce the Time Complexity further to O(N)\n",
        "\n",
        "#Samples\n",
        "A = [-2, 3, 4, -1, 5, -10, 7]\n",
        "#A = [-3, 4, 6, 8, -10, 2, 7]\n",
        "#A = [4, 5, 2, 1, 6]\n",
        "#A = [-4, -3, -6, -9, -2]\n",
        "\n",
        "\n",
        "n=len(A)\n",
        "maxSum = -1000000000000000000\n",
        "currSum = 0\n",
        "\n",
        "for i in range(n):\n",
        "    currSum += A[i]\n",
        "    if currSum > maxSum:\n",
        "      maxSum = currSum\n",
        "    if currSum < 0:\n",
        "      currSum = 0\n",
        "print(maxSum)\n",
        "\n",
        "#T.C~O(N)\n",
        "#S.C~O(1)"
      ],
      "metadata": {
        "colab": {
          "base_uri": "https://localhost:8080/"
        },
        "id": "rWWx3c91RD_g",
        "outputId": "4d6969e4-65ca-4a62-ed31-9e4bb4b221ec"
      },
      "execution_count": 35,
      "outputs": [
        {
          "output_type": "stream",
          "name": "stdout",
          "text": [
            "11\n"
          ]
        }
      ]
    },
    {
      "cell_type": "markdown",
      "source": [
        "Given integer array with all elements as 0, return final array after query(i, value)"
      ],
      "metadata": {
        "id": "wBfx2LFX6SsJ"
      }
    },
    {
      "cell_type": "code",
      "source": [
        "# Brute force\n",
        "A = [0, 0, 0, 0, 0]\n",
        "Q = [\n",
        "    [1, 3],\n",
        "    [0, 2],\n",
        "    [4, 1]\n",
        "    ]\n",
        "\n",
        "qlen = len(Q)\n",
        "n = len(A)\n",
        "for i in range(qlen):\n",
        "  index = Q[i][0]\n",
        "  value = Q[i][1]\n",
        "\n",
        "  for j in range(index, n):\n",
        "    A[j] += value\n",
        "\n",
        "print(A)\n",
        "\n",
        "#T.C ~ O(Q*N)\n",
        "#S.C ~ O(1)"
      ],
      "metadata": {
        "colab": {
          "base_uri": "https://localhost:8080/"
        },
        "id": "4GrwrUMhqDqI",
        "outputId": "b42b76c4-8e18-41fa-b9b3-32e588d27c82"
      },
      "execution_count": 17,
      "outputs": [
        {
          "output_type": "stream",
          "name": "stdout",
          "text": [
            "[2, 5, 5, 5, 6]\n"
          ]
        }
      ]
    },
    {
      "cell_type": "code",
      "source": [
        "# Optimised approach\n",
        "A = [0, 0, 0, 0, 0]\n",
        "Q = [\n",
        "    [1, 3],\n",
        "    [0, 2],\n",
        "    [4, 1]\n",
        "    ]\n",
        "\n",
        "qlen = len(Q)\n",
        "n = len(A)\n",
        "\n",
        "for i in range(qlen):\n",
        "  index = Q[i][0]\n",
        "  value = Q[i][1]\n",
        "  A[index] = value\n",
        "\n",
        "for i in range(1, n):\n",
        "  A[i] += A[i-1]\n",
        "\n",
        "print(A)\n",
        "\n",
        "#T.C ~ O(Q+N)\n",
        "#S.C ~ O(1)"
      ],
      "metadata": {
        "colab": {
          "base_uri": "https://localhost:8080/"
        },
        "id": "yNcxohNV8oCV",
        "outputId": "b736bc91-ecc7-445c-b15c-81ba53480be2"
      },
      "execution_count": 16,
      "outputs": [
        {
          "output_type": "stream",
          "name": "stdout",
          "text": [
            "[2, 5, 5, 5, 6]\n"
          ]
        }
      ]
    },
    {
      "cell_type": "markdown",
      "source": [
        "Given integer array with all elements as 0, return final array after query(i, j, value)"
      ],
      "metadata": {
        "id": "2itc9Gx3DWKE"
      }
    },
    {
      "cell_type": "code",
      "source": [
        "# Brute force\n",
        "A = [0, 0, 0, 0, 0, 0, 0]   #len=7\n",
        "Q = [\n",
        "    [1, 3, 2],\n",
        "    [2, 5, 3],\n",
        "    [5, 6, -1]\n",
        "    ]\n",
        "\n",
        "qlen = len(Q)\n",
        "n = len(A)\n",
        "for i in range(qlen):\n",
        "  start = Q[i][0]\n",
        "  end = Q[i][1]\n",
        "  value = Q[i][2]\n",
        "\n",
        "  for j in range(start, end+1):\n",
        "    A[j] += value\n",
        "\n",
        "print(A)\n",
        "\n",
        "#T.C ~ O(Q*N)\n",
        "#S.C ~ O(1)"
      ],
      "metadata": {
        "colab": {
          "base_uri": "https://localhost:8080/"
        },
        "id": "-dUspunW9jFW",
        "outputId": "541b1fc9-e0bb-437a-b2ea-f5483fefb0c5"
      },
      "execution_count": 15,
      "outputs": [
        {
          "output_type": "stream",
          "name": "stdout",
          "text": [
            "[0, 2, 5, 5, 3, 2, -1]\n"
          ]
        }
      ]
    },
    {
      "cell_type": "code",
      "source": [
        "# Optimised Approach\n",
        "A = [0, 0, 0, 0, 0, 0, 0]   #len=7\n",
        "Q = [\n",
        "    [1, 3, 2],\n",
        "    [2, 5, 3],\n",
        "    [5, 6, -1]\n",
        "    ]\n",
        "\n",
        "qlen = len(Q)\n",
        "n = len(A)\n",
        "for i in range(qlen):\n",
        "  start = Q[i][0]\n",
        "  end = Q[i][1]\n",
        "  value = Q[i][2]\n",
        "\n",
        "  A[start] += value\n",
        "  if end<n-1:\n",
        "    A[end+1] -= value\n",
        "\n",
        "for i in range(1, n):\n",
        "  A[i] += A[i-1]\n",
        "\n",
        "print(A)\n",
        "\n",
        "#T.C ~ O(Q+N)\n",
        "#S.C ~ O(1)"
      ],
      "metadata": {
        "colab": {
          "base_uri": "https://localhost:8080/"
        },
        "id": "5cCQYINPEH5V",
        "outputId": "3ea7aac7-0249-4cea-9640-4768bac8a045"
      },
      "execution_count": 14,
      "outputs": [
        {
          "output_type": "stream",
          "name": "stdout",
          "text": [
            "[0, 2, 5, 5, 3, 2, -1]\n"
          ]
        }
      ]
    },
    {
      "cell_type": "markdown",
      "source": [
        "Water problem"
      ],
      "metadata": {
        "id": "ieLHylq6Ipq0"
      }
    },
    {
      "cell_type": "code",
      "source": [
        "A = [3, 2, 0, 4]\n",
        "n=len(A)\n",
        "lmax = [0]*n\n",
        "rmax = [0]*n\n",
        "water = 0\n",
        "ans = 0\n",
        "for i in range(1, n):\n",
        "  lmax[i] = max(lmax[i-1], A[i-1])\n",
        "\n",
        "print(lmax)\n",
        "\n",
        "for i in range(n-2, -1, -1):\n",
        "  rmax[i] = max(rmax[i+1], A[i+1])\n",
        "\n",
        "print(rmax)\n",
        "\n",
        "for i in range(1, n-1):\n",
        "  water = min(lmax[i], rmax[i]) - A[i]\n",
        "  if water>0:\n",
        "    ans += water\n",
        "print(ans)"
      ],
      "metadata": {
        "colab": {
          "base_uri": "https://localhost:8080/"
        },
        "id": "NClY7eTIEdCZ",
        "outputId": "9d0b9ae4-f557-4481-a0a7-3994970483e8"
      },
      "execution_count": 18,
      "outputs": [
        {
          "output_type": "stream",
          "name": "stdout",
          "text": [
            "[0, 3, 3, 3]\n",
            "[4, 4, 4, 0]\n",
            "4\n"
          ]
        }
      ]
    },
    {
      "cell_type": "code",
      "source": [],
      "metadata": {
        "id": "BXTxiX9AJNnd"
      },
      "execution_count": null,
      "outputs": []
    }
  ]
}