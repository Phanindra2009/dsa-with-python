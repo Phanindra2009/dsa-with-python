{
  "nbformat": 4,
  "nbformat_minor": 0,
  "metadata": {
    "colab": {
      "provenance": [],
      "authorship_tag": "ABX9TyPz5fQnwOorgL/rR7ChF+Ft",
      "include_colab_link": true
    },
    "kernelspec": {
      "name": "python3",
      "display_name": "Python 3"
    },
    "language_info": {
      "name": "python"
    }
  },
  "cells": [
    {
      "cell_type": "markdown",
      "metadata": {
        "id": "view-in-github",
        "colab_type": "text"
      },
      "source": [
        "<a href=\"https://colab.research.google.com/github/Phanindra2009/dsa-with-python/blob/main/Day_33_DSA_Bit_Manipulation_1.ipynb\" target=\"_parent\"><img src=\"https://colab.research.google.com/assets/colab-badge.svg\" alt=\"Open In Colab\"/></a>"
      ]
    },
    {
      "cell_type": "markdown",
      "source": [
        "# Q1. Unset i-th bit\n",
        "Problem Description:\n",
        "\n",
        "You are given two integers A and B.\n",
        "\n",
        "*   If B-th bit in A is set, make it unset.\n",
        "*   If B-th bit in A is unset, leave as it is.\n",
        "\n",
        "\n",
        "Print the updated A value.\n",
        "\n",
        "Note:\n",
        "The bit position is 0-indexed, which means that the least significant bit (LSB) has index 0.\n",
        "\n",
        "\n",
        "Problem Constraints:\n",
        "\n",
        "1 <= A <= 10^9\n",
        "\n",
        "0 <= B <= 30\n",
        "\n",
        "\n",
        "Input Format:\n",
        "\n",
        "A is an integer.\n",
        "\n",
        "B is an integer.\n",
        "\n",
        "\n",
        "Output Format:\n",
        "\n",
        "Return an integer.\n",
        "\n",
        "\n",
        "Example Input:\n",
        "\n",
        "Input 1:\n",
        "\n",
        "A = 4\n",
        "\n",
        "B = 1\n",
        "\n",
        "Input 2:\n",
        "\n",
        "A = 5\n",
        "\n",
        "B = 2\n",
        "\n",
        "\n",
        "Example Output:\n",
        "\n",
        "Output 1:\n",
        "\n",
        "4\n",
        "\n",
        "Output 2:\n",
        "\n",
        "1\n",
        "\n",
        "\n",
        "Example Explanation:\n",
        "\n",
        "For Input 1:\n",
        "\n",
        "Given N = 4 which is 100 in binary. The 1-st bit is already unset\n",
        "\n",
        "For Input 2:\n",
        "\n",
        "Given N = 5 which is 101 in binary. We unset the 2-nd bit\n",
        "It becomes 001 which is 1 in Decimal."
      ],
      "metadata": {
        "id": "UxHHFqn1IZ32"
      }
    },
    {
      "cell_type": "code",
      "execution_count": null,
      "metadata": {
        "id": "QEturhyCIIgM"
      },
      "outputs": [],
      "source": [
        "A = int(input())\n",
        "B = int(input())\n",
        "if A & (1<<(B)):\n",
        "    print(A^(1<<(B)))\n",
        "else:\n",
        "    print(A)"
      ]
    }
  ]
}