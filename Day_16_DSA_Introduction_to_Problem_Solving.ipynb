{
  "nbformat": 4,
  "nbformat_minor": 0,
  "metadata": {
    "colab": {
      "provenance": [],
      "authorship_tag": "ABX9TyMcLqTFFVsmuVUDESHfhRg5",
      "include_colab_link": true
    },
    "kernelspec": {
      "name": "python3",
      "display_name": "Python 3"
    },
    "language_info": {
      "name": "python"
    }
  },
  "cells": [
    {
      "cell_type": "markdown",
      "metadata": {
        "id": "view-in-github",
        "colab_type": "text"
      },
      "source": [
        "<a href=\"https://colab.research.google.com/github/Phanindra2009/dsa-with-python/blob/main/Day_16_DSA_Introduction_to_Problem_Solving.ipynb\" target=\"_parent\"><img src=\"https://colab.research.google.com/assets/colab-badge.svg\" alt=\"Open In Colab\"/></a>"
      ]
    },
    {
      "cell_type": "markdown",
      "source": [
        "# Q1. Count Factors - 2\n",
        "Given an integer A, you need to find the count of it's factors.\n",
        "\n",
        "Factor of a number is the number which divides it perfectly leaving no remainder.\n",
        "\n",
        "\n",
        "Problem Constraints:\n",
        "\n",
        "# 1 <= A <= 10^9\n",
        "\n",
        "\n",
        "Example Input:\n",
        "\n",
        "Input 1:\n",
        "\n",
        "5\n",
        "\n",
        "Input 2:\n",
        "\n",
        "10\n",
        "\n",
        "\n",
        "Example Output:\n",
        "\n",
        "Output 1:\n",
        "\n",
        "2\n",
        "\n",
        "Output 2:\n",
        "\n",
        "4\n",
        "\n",
        "\n",
        "Example Explanation\n",
        "\n",
        "Explanation 1:\n",
        "\n",
        "Factors of 5 are 1 and 5.\n",
        "\n",
        "Explanation 2:\n",
        "\n",
        "Factors of 10 are 1, 2, 5 and 10."
      ],
      "metadata": {
        "id": "NwvYXvllHYT3"
      }
    },
    {
      "cell_type": "markdown",
      "source": [
        "Brute force method to solve the example"
      ],
      "metadata": {
        "id": "7MtT4XE9ViO1"
      }
    },
    {
      "cell_type": "code",
      "source": [
        "A = int(input())\n",
        "cnt_factors = 0\n",
        "for i in range(1,A+1):\n",
        "  if A % i == 0:\n",
        "    cnt_factors += 1\n",
        "print(cnt_factors)"
      ],
      "metadata": {
        "id": "OyFS_L3PU3mb"
      },
      "execution_count": null,
      "outputs": []
    },
    {
      "cell_type": "markdown",
      "source": [
        "Above code fails because the no. of iterations to get the result increases as the integer gets bigger.As we can observe costraint is 1 <= A <= 10^9.\n",
        "\n",
        "This is optimized way to find the factors of the integer A."
      ],
      "metadata": {
        "id": "8Bl9riePU_fc"
      }
    },
    {
      "cell_type": "code",
      "source": [
        "A = int(input())\n",
        "i = 1\n",
        "cnt_factors = 0\n",
        "while i*i <= A:\n",
        "    if A % i == 0:\n",
        "        if i*i == A:\n",
        "            cnt_factors += 1\n",
        "        else:\n",
        "            cnt_factors += 2\n",
        "    i += 1\n",
        "print(cnt_factors)"
      ],
      "metadata": {
        "id": "8CJx0wY5ULux"
      },
      "execution_count": null,
      "outputs": []
    }
  ]
}